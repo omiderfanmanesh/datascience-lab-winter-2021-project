{
 "cells": [
  {
   "cell_type": "code",
   "execution_count": 11,
   "metadata": {
    "collapsed": true
   },
   "outputs": [],
   "source": [
    "import pandas as pd\n",
    "import numpy as np\n",
    "from sklearn.model_selection import train_test_split\n",
    "from sklearn.metrics import *\n",
    "from sklearn.model_selection import GridSearchCV\n",
    "np.random.seed(0)"
   ]
  },
  {
   "cell_type": "code",
   "execution_count": 2,
   "outputs": [],
   "source": [
    "\n",
    "def scaler(scaler, data, test=None):\n",
    "    scaler.fit(data)  # Apply transform to both the training set and the test set.\n",
    "    train_scale = scaler.transform(data)\n",
    "    if test is not None:\n",
    "        test_scale = scaler.fit_transform(test)\n",
    "\n",
    "    return train_scale, test_scale, scaler\n",
    "\n",
    "def train_model(classifier, X_tr, y_tr, X_te, y_te):\n",
    "    print('start training...')\n",
    "    classifier.fit(X_tr, y_tr)\n",
    "    print('evaluation...')\n",
    "    y_p = classifier.predict(X_te)\n",
    "    score = evaluate(y_te, y_p)\n",
    "    print(f'score is {score}')\n",
    "    return classifier, score\n",
    "\n",
    "def evaluate(y_true, y_pred):\n",
    "    return f1_score(y_true, y_pred, average=\"macro\")"
   ],
   "metadata": {
    "collapsed": false,
    "pycharm": {
     "name": "#%%\n"
    }
   }
  },
  {
   "cell_type": "code",
   "execution_count": 3,
   "outputs": [],
   "source": [
    "data = pd.read_table('data/dev.tsv')\n",
    "test = pd.read_table('data/eval.tsv')"
   ],
   "metadata": {
    "collapsed": false,
    "pycharm": {
     "name": "#%%\n"
    }
   }
  },
  {
   "cell_type": "code",
   "execution_count": 4,
   "outputs": [],
   "source": [
    "df = data.copy()\n",
    "eval = test.copy()"
   ],
   "metadata": {
    "collapsed": false,
    "pycharm": {
     "name": "#%%\n"
    }
   }
  },
  {
   "cell_type": "code",
   "execution_count": 59,
   "outputs": [
    {
     "name": "stderr",
     "output_type": "stream",
     "text": [
      "/home/omid/anaconda3/envs/ml/lib/python3.8/site-packages/pandas/core/series.py:726: RuntimeWarning: invalid value encountered in sqrt\n",
      "  result = getattr(ufunc, method)(*inputs, **kwargs)\n"
     ]
    }
   ],
   "source": [
    "from scipy import stats\n",
    "def happy_sad(x):\n",
    "    if x>df['valence'].mean():\n",
    "        return 'happy'\n",
    "    else:\n",
    "        return 'sad'\n",
    "df['boringness'] = df['loudness'] + df['tempo'] + (df['energy']*100) + (df['danceability']*100)\n",
    "df['valence_happy_sad'] = df['valence'].apply(lambda x: happy_sad(x))\n",
    "df['loudness_plus_60'] = df['loudness'].apply(lambda x: x+60)\n",
    "df['loudness_pos'] = df['loudness'].apply(lambda x: -1*x)\n",
    "df['loudness_pos'] = np.sqrt(df['loudness_pos'])\n",
    "df['boringness_plus_60'] = df['boringness'].apply(lambda x: x+60)\n",
    "df['duration_ms_box_cox_trans'] = stats.boxcox(df['duration_ms'])[0]\n",
    "df['acousticness_sqrt_trans'] = np.sqrt(df['acousticness'])\n",
    "df['liveness_sqrt_trans'] = np.sqrt(df['liveness'])\n",
    "df['popularity_sqrt_trans'] = np.sqrt(df['popularity'])\n",
    "df['speechiness_sqrt_trans'] = np.sqrt(df['speechiness'])"
   ],
   "metadata": {
    "collapsed": false,
    "pycharm": {
     "name": "#%%\n"
    }
   }
  },
  {
   "cell_type": "code",
   "execution_count": 71,
   "outputs": [],
   "source": [
    "df = df.fillna(value=0)"
   ],
   "metadata": {
    "collapsed": false,
    "pycharm": {
     "name": "#%%\n"
    }
   }
  },
  {
   "cell_type": "code",
   "execution_count": 103,
   "outputs": [],
   "source": [
    "col = [\n",
    "    'valence',\n",
    "        # 'year',\n",
    "        # 'acousticness',\n",
    "        # 'artists',\n",
    "        # 'danceability',\n",
    "       # 'duration_ms',\n",
    "        'energy',\n",
    "        'explicit',\n",
    "        # 'id',\n",
    "        'instrumentalness',\n",
    "        'key',\n",
    "       'liveness',\n",
    "        # 'loudness',\n",
    "        'popularity',\n",
    "        # 'speechiness',\n",
    "        'tempo',\n",
    "       #  'mode',\n",
    "       # 'loudness_plus_60',\n",
    "        'loudness_pos',\n",
    "         'boringness',\n",
    "       #  'valence_happy_sad',\n",
    "       # 'boringness_plus_60',\n",
    "        'duration_ms_box_cox_trans',\n",
    "       'acousticness_sqrt_trans',\n",
    "       #  'liveness_sqrt_trans',\n",
    "       # 'popularity_sqrt_trans',\n",
    "        'speechiness_sqrt_trans'\n",
    "        ]\n",
    "X = df[col]\n",
    "y = df['mode']"
   ],
   "metadata": {
    "collapsed": false,
    "pycharm": {
     "name": "#%%\n"
    }
   }
  },
  {
   "cell_type": "code",
   "execution_count": 104,
   "outputs": [],
   "source": [
    "X_train, X_test, y_train, y_test = train_test_split(X, y, test_size=0.2,random_state=0)"
   ],
   "metadata": {
    "collapsed": false,
    "pycharm": {
     "name": "#%%\n"
    }
   }
  },
  {
   "cell_type": "code",
   "execution_count": 105,
   "outputs": [],
   "source": [
    "from sklearn.preprocessing import *\n",
    "X_train_scal, X_test_scal, x_scaler = scaler(RobustScaler(), X_train, X_test)\n"
   ],
   "metadata": {
    "collapsed": false,
    "pycharm": {
     "name": "#%%\n"
    }
   }
  },
  {
   "cell_type": "code",
   "execution_count": 106,
   "outputs": [
    {
     "name": "stdout",
     "output_type": "stream",
     "text": [
      "start training...\n",
      "evaluation...\n",
      "score is 0.5924540918285437\n",
      " score (RandomForestClassifier(n_estimators=250, random_state=0), 0.5924540918285437)\n"
     ]
    }
   ],
   "source": [
    "from sklearn.linear_model import SGDClassifier\n",
    "from sklearn.svm import SVC\n",
    "from sklearn.model_selection import cross_val_score\n",
    "from sklearn.naive_bayes import MultinomialNB\n",
    "from sklearn.naive_bayes import BernoulliNB\n",
    "from sklearn.naive_bayes import GaussianNB\n",
    "from sklearn.linear_model import LogisticRegression\n",
    "from sklearn.ensemble import RandomForestClassifier\n",
    "from sklearn.neighbors import KNeighborsClassifier\n",
    "\n",
    "\n",
    "# clf = SVC(random_state=42)\n",
    "# clf = GaussianNB()\n",
    "# clf = MultinomialNB(alpha=10/100)\n",
    "# clf = BernoulliNB(alpha=10/100)\n",
    "# clf = LogisticRegression(penalty='l2',max_iter=10000,random_state=0)\n",
    "clf = RandomForestClassifier(n_estimators=250, random_state=0)\n",
    "# clf = SGDClassifier(loss='hinge', penalty='l2', validation_fraction=0.1,max_iter=100000,tol=0.00001)\n",
    "# clf = KNeighborsClassifier(n_neighbors = 10)\n",
    "\n",
    "score = train_model(clf,X_train_scal,y_train,X_test_scal,y_test)\n",
    "print(f' score {score}')\n",
    "# scores = cross_val_score(clf, X, y, cv=5,scoring='f1_macro')\n",
    "# print(f'mean score {np.mean(scores)}, max score {np.max(scores)}, min score {np.min(scores)}')"
   ],
   "metadata": {
    "collapsed": false,
    "pycharm": {
     "name": "#%%\n"
    }
   }
  },
  {
   "cell_type": "code",
   "execution_count": 93,
   "outputs": [
    {
     "name": "stdout",
     "output_type": "stream",
     "text": [
      " score (RandomForestClassifier(n_estimators=250, random_state=0), 0.5942895704992852)\n"
     ]
    }
   ],
   "source": [
    "print(f' score {score}')"
   ],
   "metadata": {
    "collapsed": false,
    "pycharm": {
     "name": "#%%\n"
    }
   }
  },
  {
   "cell_type": "code",
   "execution_count": 94,
   "outputs": [
    {
     "name": "stdout",
     "output_type": "stream",
     "text": [
      "2 0.5199\n",
      "4 0.5407\n",
      "6 0.5485\n",
      "8 0.5415\n",
      "10 0.5321\n",
      "12 0.5214\n",
      "14 0.5174\n",
      "16 0.5110\n",
      "18 0.5043\n",
      "20 0.4965\n",
      "22 0.4898\n",
      "24 0.4819\n",
      "26 0.4787\n",
      "28 0.4756\n",
      "30 0.4692\n",
      "32 0.4649\n",
      "34 0.4637\n",
      "36 0.4605\n",
      "38 0.4578\n",
      "40 0.4532\n",
      "42 0.4505\n",
      "44 0.4491\n",
      "46 0.4486\n",
      "48 0.4462\n",
      "50 0.4429\n",
      "52 0.4393\n",
      "54 0.4369\n",
      "56 0.4370\n",
      "58 0.4353\n",
      "60 0.4352\n",
      "62 0.4343\n",
      "64 0.4326\n",
      "66 0.4324\n",
      "68 0.4323\n",
      "70 0.4316\n",
      "72 0.4301\n",
      "74 0.4287\n",
      "76 0.4292\n",
      "78 0.4291\n",
      "80 0.4287\n",
      "82 0.4277\n",
      "84 0.4270\n",
      "86 0.4270\n",
      "88 0.4266\n",
      "90 0.4269\n",
      "92 0.4251\n",
      "94 0.4244\n",
      "96 0.4242\n",
      "98 0.4229\n"
     ]
    }
   ],
   "source": [
    "from sklearn.neighbors import KNeighborsClassifier\n",
    "\n",
    "score = []\n",
    "for i in range(2,100,2):\n",
    "    knn = KNeighborsClassifier(n_neighbors = i)\n",
    "    knn.fit(X_train, y_train)\n",
    "    y_pred = knn.predict(X_test)\n",
    "    sco = evaluate(y_test, y_pred)\n",
    "    score.append(sco)\n",
    "    print(f'{i} {sco:.4f}')"
   ],
   "metadata": {
    "collapsed": false,
    "pycharm": {
     "name": "#%%\n"
    }
   }
  },
  {
   "cell_type": "code",
   "execution_count": 49,
   "outputs": [
    {
     "ename": "KeyError",
     "evalue": "\"['duration_ms_box_cox_trans'] not in index\"",
     "output_type": "error",
     "traceback": [
      "\u001B[0;31m---------------------------------------------------------------------------\u001B[0m",
      "\u001B[0;31mKeyError\u001B[0m                                  Traceback (most recent call last)",
      "\u001B[0;32m<ipython-input-49-5277e5dde3ca>\u001B[0m in \u001B[0;36m<module>\u001B[0;34m\u001B[0m\n\u001B[1;32m      7\u001B[0m \u001B[0;34m\u001B[0m\u001B[0m\n\u001B[1;32m      8\u001B[0m \u001B[0;34m\u001B[0m\u001B[0m\n\u001B[0;32m----> 9\u001B[0;31m \u001B[0mtest\u001B[0m \u001B[0;34m=\u001B[0m \u001B[0meval\u001B[0m\u001B[0;34m[\u001B[0m\u001B[0mcol\u001B[0m\u001B[0;34m]\u001B[0m\u001B[0;34m\u001B[0m\u001B[0;34m\u001B[0m\u001B[0m\n\u001B[0m\u001B[1;32m     10\u001B[0m \u001B[0mtest_scal\u001B[0m \u001B[0;34m=\u001B[0m \u001B[0mx_scaler\u001B[0m\u001B[0;34m.\u001B[0m\u001B[0mtransform\u001B[0m\u001B[0;34m(\u001B[0m\u001B[0mtest\u001B[0m\u001B[0;34m)\u001B[0m\u001B[0;34m\u001B[0m\u001B[0;34m\u001B[0m\u001B[0m\n\u001B[1;32m     11\u001B[0m \u001B[0my_pred\u001B[0m \u001B[0;34m=\u001B[0m \u001B[0mclf\u001B[0m\u001B[0;34m.\u001B[0m\u001B[0mpredict\u001B[0m\u001B[0;34m(\u001B[0m\u001B[0mtest_scal\u001B[0m\u001B[0;34m)\u001B[0m\u001B[0;34m\u001B[0m\u001B[0;34m\u001B[0m\u001B[0m\n",
      "\u001B[0;32m~/anaconda3/envs/ml/lib/python3.8/site-packages/pandas/core/frame.py\u001B[0m in \u001B[0;36m__getitem__\u001B[0;34m(self, key)\u001B[0m\n\u001B[1;32m   2906\u001B[0m             \u001B[0;32mif\u001B[0m \u001B[0mis_iterator\u001B[0m\u001B[0;34m(\u001B[0m\u001B[0mkey\u001B[0m\u001B[0;34m)\u001B[0m\u001B[0;34m:\u001B[0m\u001B[0;34m\u001B[0m\u001B[0;34m\u001B[0m\u001B[0m\n\u001B[1;32m   2907\u001B[0m                 \u001B[0mkey\u001B[0m \u001B[0;34m=\u001B[0m \u001B[0mlist\u001B[0m\u001B[0;34m(\u001B[0m\u001B[0mkey\u001B[0m\u001B[0;34m)\u001B[0m\u001B[0;34m\u001B[0m\u001B[0;34m\u001B[0m\u001B[0m\n\u001B[0;32m-> 2908\u001B[0;31m             \u001B[0mindexer\u001B[0m \u001B[0;34m=\u001B[0m \u001B[0mself\u001B[0m\u001B[0;34m.\u001B[0m\u001B[0mloc\u001B[0m\u001B[0;34m.\u001B[0m\u001B[0m_get_listlike_indexer\u001B[0m\u001B[0;34m(\u001B[0m\u001B[0mkey\u001B[0m\u001B[0;34m,\u001B[0m \u001B[0maxis\u001B[0m\u001B[0;34m=\u001B[0m\u001B[0;36m1\u001B[0m\u001B[0;34m,\u001B[0m \u001B[0mraise_missing\u001B[0m\u001B[0;34m=\u001B[0m\u001B[0;32mTrue\u001B[0m\u001B[0;34m)\u001B[0m\u001B[0;34m[\u001B[0m\u001B[0;36m1\u001B[0m\u001B[0;34m]\u001B[0m\u001B[0;34m\u001B[0m\u001B[0;34m\u001B[0m\u001B[0m\n\u001B[0m\u001B[1;32m   2909\u001B[0m \u001B[0;34m\u001B[0m\u001B[0m\n\u001B[1;32m   2910\u001B[0m         \u001B[0;31m# take() does not accept boolean indexers\u001B[0m\u001B[0;34m\u001B[0m\u001B[0;34m\u001B[0m\u001B[0;34m\u001B[0m\u001B[0m\n",
      "\u001B[0;32m~/anaconda3/envs/ml/lib/python3.8/site-packages/pandas/core/indexing.py\u001B[0m in \u001B[0;36m_get_listlike_indexer\u001B[0;34m(self, key, axis, raise_missing)\u001B[0m\n\u001B[1;32m   1252\u001B[0m             \u001B[0mkeyarr\u001B[0m\u001B[0;34m,\u001B[0m \u001B[0mindexer\u001B[0m\u001B[0;34m,\u001B[0m \u001B[0mnew_indexer\u001B[0m \u001B[0;34m=\u001B[0m \u001B[0max\u001B[0m\u001B[0;34m.\u001B[0m\u001B[0m_reindex_non_unique\u001B[0m\u001B[0;34m(\u001B[0m\u001B[0mkeyarr\u001B[0m\u001B[0;34m)\u001B[0m\u001B[0;34m\u001B[0m\u001B[0;34m\u001B[0m\u001B[0m\n\u001B[1;32m   1253\u001B[0m \u001B[0;34m\u001B[0m\u001B[0m\n\u001B[0;32m-> 1254\u001B[0;31m         \u001B[0mself\u001B[0m\u001B[0;34m.\u001B[0m\u001B[0m_validate_read_indexer\u001B[0m\u001B[0;34m(\u001B[0m\u001B[0mkeyarr\u001B[0m\u001B[0;34m,\u001B[0m \u001B[0mindexer\u001B[0m\u001B[0;34m,\u001B[0m \u001B[0maxis\u001B[0m\u001B[0;34m,\u001B[0m \u001B[0mraise_missing\u001B[0m\u001B[0;34m=\u001B[0m\u001B[0mraise_missing\u001B[0m\u001B[0;34m)\u001B[0m\u001B[0;34m\u001B[0m\u001B[0;34m\u001B[0m\u001B[0m\n\u001B[0m\u001B[1;32m   1255\u001B[0m         \u001B[0;32mreturn\u001B[0m \u001B[0mkeyarr\u001B[0m\u001B[0;34m,\u001B[0m \u001B[0mindexer\u001B[0m\u001B[0;34m\u001B[0m\u001B[0;34m\u001B[0m\u001B[0m\n\u001B[1;32m   1256\u001B[0m \u001B[0;34m\u001B[0m\u001B[0m\n",
      "\u001B[0;32m~/anaconda3/envs/ml/lib/python3.8/site-packages/pandas/core/indexing.py\u001B[0m in \u001B[0;36m_validate_read_indexer\u001B[0;34m(self, key, indexer, axis, raise_missing)\u001B[0m\n\u001B[1;32m   1302\u001B[0m             \u001B[0;32mif\u001B[0m \u001B[0mraise_missing\u001B[0m\u001B[0;34m:\u001B[0m\u001B[0;34m\u001B[0m\u001B[0;34m\u001B[0m\u001B[0m\n\u001B[1;32m   1303\u001B[0m                 \u001B[0mnot_found\u001B[0m \u001B[0;34m=\u001B[0m \u001B[0mlist\u001B[0m\u001B[0;34m(\u001B[0m\u001B[0mset\u001B[0m\u001B[0;34m(\u001B[0m\u001B[0mkey\u001B[0m\u001B[0;34m)\u001B[0m \u001B[0;34m-\u001B[0m \u001B[0mset\u001B[0m\u001B[0;34m(\u001B[0m\u001B[0max\u001B[0m\u001B[0;34m)\u001B[0m\u001B[0;34m)\u001B[0m\u001B[0;34m\u001B[0m\u001B[0;34m\u001B[0m\u001B[0m\n\u001B[0;32m-> 1304\u001B[0;31m                 \u001B[0;32mraise\u001B[0m \u001B[0mKeyError\u001B[0m\u001B[0;34m(\u001B[0m\u001B[0;34mf\"{not_found} not in index\"\u001B[0m\u001B[0;34m)\u001B[0m\u001B[0;34m\u001B[0m\u001B[0;34m\u001B[0m\u001B[0m\n\u001B[0m\u001B[1;32m   1305\u001B[0m \u001B[0;34m\u001B[0m\u001B[0m\n\u001B[1;32m   1306\u001B[0m             \u001B[0;31m# we skip the warning on Categorical\u001B[0m\u001B[0;34m\u001B[0m\u001B[0;34m\u001B[0m\u001B[0;34m\u001B[0m\u001B[0m\n",
      "\u001B[0;31mKeyError\u001B[0m: \"['duration_ms_box_cox_trans'] not in index\""
     ]
    }
   ],
   "source": [
    "def WriteOnFile(name, y_eval):\n",
    "    f = open(name, \"w\")\n",
    "    f.write(\"Id,Predicted\\n\")\n",
    "    for index, i in enumerate(y_eval):\n",
    "        f.write(f\"{index},{i}\\n\")\n",
    "    f.close\n",
    "\n",
    "\n",
    "test = eval[col]\n",
    "test_scal = x_scaler.transform(test)\n",
    "y_pred = clf.predict(test_scal)\n",
    "WriteOnFile('submission.csv',y_pred)"
   ],
   "metadata": {
    "collapsed": false,
    "pycharm": {
     "name": "#%%\n"
    }
   }
  }
 ],
 "metadata": {
  "kernelspec": {
   "display_name": "Python 3",
   "language": "python",
   "name": "python3"
  },
  "language_info": {
   "codemirror_mode": {
    "name": "ipython",
    "version": 2
   },
   "file_extension": ".py",
   "mimetype": "text/x-python",
   "name": "python",
   "nbconvert_exporter": "python",
   "pygments_lexer": "ipython2",
   "version": "2.7.6"
  }
 },
 "nbformat": 4,
 "nbformat_minor": 0
}