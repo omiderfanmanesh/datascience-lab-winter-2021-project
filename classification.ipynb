{
 "cells": [
  {
   "cell_type": "code",
   "execution_count": 11,
   "metadata": {
    "collapsed": true
   },
   "outputs": [],
   "source": [
    "import pandas as pd\n",
    "import numpy as np\n",
    "from sklearn.model_selection import train_test_split\n",
    "from sklearn.metrics import *\n",
    "from sklearn.model_selection import GridSearchCV\n",
    "np.random.seed(0)"
   ]
  },
  {
   "cell_type": "code",
   "execution_count": 2,
   "outputs": [],
   "source": [
    "\n",
    "def scaler(scaler, data, test=None):\n",
    "    scaler.fit(data)  # Apply transform to both the training set and the test set.\n",
    "    train_scale = scaler.transform(data)\n",
    "    if test is not None:\n",
    "        test_scale = scaler.fit_transform(test)\n",
    "\n",
    "    return train_scale, test_scale, scaler\n",
    "\n",
    "def train_model(classifier, X_tr, y_tr, X_te, y_te):\n",
    "    print('start training...')\n",
    "    classifier.fit(X_tr, y_tr)\n",
    "    print('evaluation...')\n",
    "    y_p = classifier.predict(X_te)\n",
    "    score = evaluate(y_te, y_p)\n",
    "    print(f'score is {score}')\n",
    "    return classifier, score\n",
    "\n",
    "def evaluate(y_true, y_pred):\n",
    "    return f1_score(y_true, y_pred, average=\"macro\")"
   ],
   "metadata": {
    "collapsed": false,
    "pycharm": {
     "name": "#%%\n"
    }
   }
  },
  {
   "cell_type": "code",
   "execution_count": 3,
   "outputs": [],
   "source": [
    "data = pd.read_table('data/dev.tsv')\n",
    "test = pd.read_table('data/eval.tsv')"
   ],
   "metadata": {
    "collapsed": false,
    "pycharm": {
     "name": "#%%\n"
    }
   }
  },
  {
   "cell_type": "code",
   "execution_count": 4,
   "outputs": [],
   "source": [
    "df = data.copy()\n",
    "eval = test.copy()"
   ],
   "metadata": {
    "collapsed": false,
    "pycharm": {
     "name": "#%%\n"
    }
   }
  },
  {
   "cell_type": "code",
   "execution_count": 59,
   "outputs": [
    {
     "name": "stderr",
     "output_type": "stream",
     "text": [
      "/home/omid/anaconda3/envs/ml/lib/python3.8/site-packages/pandas/core/series.py:726: RuntimeWarning: invalid value encountered in sqrt\n",
      "  result = getattr(ufunc, method)(*inputs, **kwargs)\n"
     ]
    }
   ],
   "source": [
    "from scipy import stats\n",
    "def happy_sad(x):\n",
    "    if x>df['valence'].mean():\n",
    "        return 'happy'\n",
    "    else:\n",
    "        return 'sad'\n",
    "df['boringness'] = df['loudness'] + df['tempo'] + (df['energy']*100) + (df['danceability']*100)\n",
    "df['valence_happy_sad'] = df['valence'].apply(lambda x: happy_sad(x))\n",
    "df['loudness_plus_60'] = df['loudness'].apply(lambda x: x+60)\n",
    "df['loudness_pos'] = df['loudness'].apply(lambda x: -1*x)\n",
    "df['loudness_pos'] = np.sqrt(df['loudness_pos'])\n",
    "df['boringness_plus_60'] = df['boringness'].apply(lambda x: x+60)\n",
    "df['duration_ms_box_cox_trans'] = stats.boxcox(df['duration_ms'])[0]\n",
    "df['acousticness_sqrt_trans'] = np.sqrt(df['acousticness'])\n",
    "df['liveness_sqrt_trans'] = np.sqrt(df['liveness'])\n",
    "df['popularity_sqrt_trans'] = np.sqrt(df['popularity'])\n",
    "df['speechiness_sqrt_trans'] = np.sqrt(df['speechiness'])"
   ],
   "metadata": {
    "collapsed": false,
    "pycharm": {
     "name": "#%%\n"
    }
   }
  },
  {
   "cell_type": "code",
   "execution_count": 107,
   "outputs": [
    {
     "data": {
      "text/plain": "                              count           mean            std  \\\nvalence                    136522.0       0.528540       0.263282   \nyear                       136522.0    1976.796048      25.921025   \nacousticness               136522.0       0.502159       0.376037   \ndanceability               136522.0       0.537497       0.175972   \nduration_ms                136522.0  231061.453041  127800.577241   \nenergy                     136522.0       0.482298       0.267538   \nexplicit                   136522.0       0.084411       0.278005   \ninstrumentalness           136522.0       0.167172       0.313448   \nkey                        136522.0       5.193200       3.513427   \nliveness                   136522.0       0.205708       0.174404   \nloudness                   136522.0     -11.466140       5.693637   \npopularity                 136522.0      31.430810      21.829751   \nspeechiness                136522.0       0.098343       0.162603   \ntempo                      136522.0     116.913963      30.713393   \nmode                       136522.0       0.706904       0.455184   \nloudness_plus_60           136522.0      48.533860       5.693637   \nloudness_pos               136522.0       3.285115       0.821164   \nboringness                 136522.0     207.427339      54.726476   \nboringness_plus_60         136522.0     267.427339      54.726476   \nduration_ms_box_cox_trans  136522.0      13.812997       0.531336   \nacousticness_sqrt_trans    136522.0       0.623755       0.336288   \nliveness_sqrt_trans        136522.0       0.423810       0.161535   \npopularity_sqrt_trans      136522.0       4.912854       2.700875   \nspeechiness_sqrt_trans     136522.0       0.270560       0.158558   \n\n                                   min            25%            50%  \\\nvalence                       0.000000       0.317000       0.540000   \nyear                       1921.000000    1956.000000    1977.000000   \nacousticness                  0.000000       0.102000       0.516000   \ndanceability                  0.000000       0.415000       0.548000   \nduration_ms                5991.000000  169933.000000  207493.000000   \nenergy                        0.000000       0.255000       0.471000   \nexplicit                      0.000000       0.000000       0.000000   \ninstrumentalness              0.000000       0.000000       0.000218   \nkey                           0.000000       2.000000       5.000000   \nliveness                      0.000000       0.098900       0.136000   \nloudness                    -60.000000     -14.601000     -10.572500   \npopularity                    0.000000      11.000000      33.000000   \nspeechiness                   0.000000       0.034900       0.045000   \ntempo                         0.000000      93.498000     114.834500   \nmode                          0.000000       0.000000       1.000000   \nloudness_plus_60              0.000000      45.399000      49.427500   \nloudness_pos                  0.000000       2.681977       3.251538   \nboringness                  -60.000000     170.956000     212.869000   \nboringness_plus_60            0.000000     230.956000     272.869000   \nduration_ms_box_cox_trans     9.462137      13.540641      13.792453   \nacousticness_sqrt_trans       0.000000       0.319374       0.718331   \nliveness_sqrt_trans           0.000000       0.314484       0.368782   \npopularity_sqrt_trans         0.000000       3.316625       5.744563   \nspeechiness_sqrt_trans        0.000000       0.186815       0.212132   \n\n                                     75%           max  \nvalence                         0.747000  1.000000e+00  \nyear                         1999.000000  2.020000e+03  \nacousticness                    0.893000  9.960000e-01  \ndanceability                    0.668000  9.880000e-01  \nduration_ms                262267.000000  5.403500e+06  \nenergy                          0.703000  1.000000e+00  \nexplicit                        0.000000  1.000000e+00  \ninstrumentalness                0.103000  1.000000e+00  \nkey                             8.000000  1.100000e+01  \nliveness                        0.261000  1.000000e+00  \nloudness                       -7.193000  3.855000e+00  \npopularity                     48.000000  1.000000e+02  \nspeechiness                     0.075600  9.690000e-01  \ntempo                         135.607000  2.435070e+02  \nmode                            1.000000  1.000000e+00  \nloudness_plus_60               52.807000  6.385500e+01  \nloudness_pos                    3.821125  7.745967e+00  \nboringness                    247.917750  3.685430e+02  \nboringness_plus_60            307.917750  4.285430e+02  \nduration_ms_box_cox_trans      14.089087  1.804165e+01  \nacousticness_sqrt_trans         0.944987  9.979980e-01  \nliveness_sqrt_trans             0.510882  1.000000e+00  \npopularity_sqrt_trans           6.928203  1.000000e+01  \nspeechiness_sqrt_trans          0.274955  9.843780e-01  ",
      "text/html": "<div>\n<style scoped>\n    .dataframe tbody tr th:only-of-type {\n        vertical-align: middle;\n    }\n\n    .dataframe tbody tr th {\n        vertical-align: top;\n    }\n\n    .dataframe thead th {\n        text-align: right;\n    }\n</style>\n<table border=\"1\" class=\"dataframe\">\n  <thead>\n    <tr style=\"text-align: right;\">\n      <th></th>\n      <th>count</th>\n      <th>mean</th>\n      <th>std</th>\n      <th>min</th>\n      <th>25%</th>\n      <th>50%</th>\n      <th>75%</th>\n      <th>max</th>\n    </tr>\n  </thead>\n  <tbody>\n    <tr>\n      <th>valence</th>\n      <td>136522.0</td>\n      <td>0.528540</td>\n      <td>0.263282</td>\n      <td>0.000000</td>\n      <td>0.317000</td>\n      <td>0.540000</td>\n      <td>0.747000</td>\n      <td>1.000000e+00</td>\n    </tr>\n    <tr>\n      <th>year</th>\n      <td>136522.0</td>\n      <td>1976.796048</td>\n      <td>25.921025</td>\n      <td>1921.000000</td>\n      <td>1956.000000</td>\n      <td>1977.000000</td>\n      <td>1999.000000</td>\n      <td>2.020000e+03</td>\n    </tr>\n    <tr>\n      <th>acousticness</th>\n      <td>136522.0</td>\n      <td>0.502159</td>\n      <td>0.376037</td>\n      <td>0.000000</td>\n      <td>0.102000</td>\n      <td>0.516000</td>\n      <td>0.893000</td>\n      <td>9.960000e-01</td>\n    </tr>\n    <tr>\n      <th>danceability</th>\n      <td>136522.0</td>\n      <td>0.537497</td>\n      <td>0.175972</td>\n      <td>0.000000</td>\n      <td>0.415000</td>\n      <td>0.548000</td>\n      <td>0.668000</td>\n      <td>9.880000e-01</td>\n    </tr>\n    <tr>\n      <th>duration_ms</th>\n      <td>136522.0</td>\n      <td>231061.453041</td>\n      <td>127800.577241</td>\n      <td>5991.000000</td>\n      <td>169933.000000</td>\n      <td>207493.000000</td>\n      <td>262267.000000</td>\n      <td>5.403500e+06</td>\n    </tr>\n    <tr>\n      <th>energy</th>\n      <td>136522.0</td>\n      <td>0.482298</td>\n      <td>0.267538</td>\n      <td>0.000000</td>\n      <td>0.255000</td>\n      <td>0.471000</td>\n      <td>0.703000</td>\n      <td>1.000000e+00</td>\n    </tr>\n    <tr>\n      <th>explicit</th>\n      <td>136522.0</td>\n      <td>0.084411</td>\n      <td>0.278005</td>\n      <td>0.000000</td>\n      <td>0.000000</td>\n      <td>0.000000</td>\n      <td>0.000000</td>\n      <td>1.000000e+00</td>\n    </tr>\n    <tr>\n      <th>instrumentalness</th>\n      <td>136522.0</td>\n      <td>0.167172</td>\n      <td>0.313448</td>\n      <td>0.000000</td>\n      <td>0.000000</td>\n      <td>0.000218</td>\n      <td>0.103000</td>\n      <td>1.000000e+00</td>\n    </tr>\n    <tr>\n      <th>key</th>\n      <td>136522.0</td>\n      <td>5.193200</td>\n      <td>3.513427</td>\n      <td>0.000000</td>\n      <td>2.000000</td>\n      <td>5.000000</td>\n      <td>8.000000</td>\n      <td>1.100000e+01</td>\n    </tr>\n    <tr>\n      <th>liveness</th>\n      <td>136522.0</td>\n      <td>0.205708</td>\n      <td>0.174404</td>\n      <td>0.000000</td>\n      <td>0.098900</td>\n      <td>0.136000</td>\n      <td>0.261000</td>\n      <td>1.000000e+00</td>\n    </tr>\n    <tr>\n      <th>loudness</th>\n      <td>136522.0</td>\n      <td>-11.466140</td>\n      <td>5.693637</td>\n      <td>-60.000000</td>\n      <td>-14.601000</td>\n      <td>-10.572500</td>\n      <td>-7.193000</td>\n      <td>3.855000e+00</td>\n    </tr>\n    <tr>\n      <th>popularity</th>\n      <td>136522.0</td>\n      <td>31.430810</td>\n      <td>21.829751</td>\n      <td>0.000000</td>\n      <td>11.000000</td>\n      <td>33.000000</td>\n      <td>48.000000</td>\n      <td>1.000000e+02</td>\n    </tr>\n    <tr>\n      <th>speechiness</th>\n      <td>136522.0</td>\n      <td>0.098343</td>\n      <td>0.162603</td>\n      <td>0.000000</td>\n      <td>0.034900</td>\n      <td>0.045000</td>\n      <td>0.075600</td>\n      <td>9.690000e-01</td>\n    </tr>\n    <tr>\n      <th>tempo</th>\n      <td>136522.0</td>\n      <td>116.913963</td>\n      <td>30.713393</td>\n      <td>0.000000</td>\n      <td>93.498000</td>\n      <td>114.834500</td>\n      <td>135.607000</td>\n      <td>2.435070e+02</td>\n    </tr>\n    <tr>\n      <th>mode</th>\n      <td>136522.0</td>\n      <td>0.706904</td>\n      <td>0.455184</td>\n      <td>0.000000</td>\n      <td>0.000000</td>\n      <td>1.000000</td>\n      <td>1.000000</td>\n      <td>1.000000e+00</td>\n    </tr>\n    <tr>\n      <th>loudness_plus_60</th>\n      <td>136522.0</td>\n      <td>48.533860</td>\n      <td>5.693637</td>\n      <td>0.000000</td>\n      <td>45.399000</td>\n      <td>49.427500</td>\n      <td>52.807000</td>\n      <td>6.385500e+01</td>\n    </tr>\n    <tr>\n      <th>loudness_pos</th>\n      <td>136522.0</td>\n      <td>3.285115</td>\n      <td>0.821164</td>\n      <td>0.000000</td>\n      <td>2.681977</td>\n      <td>3.251538</td>\n      <td>3.821125</td>\n      <td>7.745967e+00</td>\n    </tr>\n    <tr>\n      <th>boringness</th>\n      <td>136522.0</td>\n      <td>207.427339</td>\n      <td>54.726476</td>\n      <td>-60.000000</td>\n      <td>170.956000</td>\n      <td>212.869000</td>\n      <td>247.917750</td>\n      <td>3.685430e+02</td>\n    </tr>\n    <tr>\n      <th>boringness_plus_60</th>\n      <td>136522.0</td>\n      <td>267.427339</td>\n      <td>54.726476</td>\n      <td>0.000000</td>\n      <td>230.956000</td>\n      <td>272.869000</td>\n      <td>307.917750</td>\n      <td>4.285430e+02</td>\n    </tr>\n    <tr>\n      <th>duration_ms_box_cox_trans</th>\n      <td>136522.0</td>\n      <td>13.812997</td>\n      <td>0.531336</td>\n      <td>9.462137</td>\n      <td>13.540641</td>\n      <td>13.792453</td>\n      <td>14.089087</td>\n      <td>1.804165e+01</td>\n    </tr>\n    <tr>\n      <th>acousticness_sqrt_trans</th>\n      <td>136522.0</td>\n      <td>0.623755</td>\n      <td>0.336288</td>\n      <td>0.000000</td>\n      <td>0.319374</td>\n      <td>0.718331</td>\n      <td>0.944987</td>\n      <td>9.979980e-01</td>\n    </tr>\n    <tr>\n      <th>liveness_sqrt_trans</th>\n      <td>136522.0</td>\n      <td>0.423810</td>\n      <td>0.161535</td>\n      <td>0.000000</td>\n      <td>0.314484</td>\n      <td>0.368782</td>\n      <td>0.510882</td>\n      <td>1.000000e+00</td>\n    </tr>\n    <tr>\n      <th>popularity_sqrt_trans</th>\n      <td>136522.0</td>\n      <td>4.912854</td>\n      <td>2.700875</td>\n      <td>0.000000</td>\n      <td>3.316625</td>\n      <td>5.744563</td>\n      <td>6.928203</td>\n      <td>1.000000e+01</td>\n    </tr>\n    <tr>\n      <th>speechiness_sqrt_trans</th>\n      <td>136522.0</td>\n      <td>0.270560</td>\n      <td>0.158558</td>\n      <td>0.000000</td>\n      <td>0.186815</td>\n      <td>0.212132</td>\n      <td>0.274955</td>\n      <td>9.843780e-01</td>\n    </tr>\n  </tbody>\n</table>\n</div>"
     },
     "execution_count": 107,
     "metadata": {},
     "output_type": "execute_result"
    }
   ],
   "source": [
    "df = df.fillna(value=0)\n",
    "df.describe().T"
   ],
   "metadata": {
    "collapsed": false,
    "pycharm": {
     "name": "#%%\n"
    }
   }
  },
  {
   "cell_type": "code",
   "execution_count": 171,
   "outputs": [],
   "source": [
    "col = [\n",
    "    'valence',\n",
    "        'year',\n",
    "        # 'acousticness',\n",
    "        # 'artists',\n",
    "         'danceability',\n",
    "       'duration_ms',\n",
    "        'energy',\n",
    "        'explicit',\n",
    "        # 'id',\n",
    "        'instrumentalness',\n",
    "        'key',\n",
    "       'liveness',\n",
    "        # 'loudness',\n",
    "        # 'popularity',\n",
    "        # 'speechiness',\n",
    "        'tempo',\n",
    "       #  'mode',\n",
    "       # 'loudness_plus_60',\n",
    "        'loudness_pos',\n",
    "         # 'boringness',\n",
    "       #  'valence_happy_sad',\n",
    "       # 'boringness_plus_60',\n",
    "       #  'duration_ms_box_cox_trans',\n",
    "       'acousticness_sqrt_trans',\n",
    "       #  'liveness_sqrt_trans',\n",
    "       # 'popularity_sqrt_trans',\n",
    "        'speechiness_sqrt_trans'\n",
    "        ]\n",
    "X = df[col]\n",
    "y = df['mode']"
   ],
   "metadata": {
    "collapsed": false,
    "pycharm": {
     "name": "#%%\n"
    }
   }
  },
  {
   "cell_type": "code",
   "execution_count": 180,
   "outputs": [],
   "source": [
    "from imblearn.under_sampling import RandomUnderSampler,NearMiss\n",
    "ous = RandomUnderSampler(random_state=42)\n",
    "nm = NearMiss()\n",
    "X,y = nm.fit_sample(X,y)\n",
    "\n",
    "X_train, X_test, y_train, y_test = train_test_split(X, y, test_size=0.2,random_state=0)"
   ],
   "metadata": {
    "collapsed": false,
    "pycharm": {
     "name": "#%%\n"
    }
   }
  },
  {
   "cell_type": "code",
   "execution_count": 213,
   "outputs": [],
   "source": [
    "from sklearn.preprocessing import *\n",
    "X_train_scal, X_test_scal, x_scaler = scaler(RobustScaler(), X_train, X_test)"
   ],
   "metadata": {
    "collapsed": false,
    "pycharm": {
     "name": "#%%\n"
    }
   }
  },
  {
   "cell_type": "code",
   "execution_count": 214,
   "outputs": [
    {
     "name": "stdout",
     "output_type": "stream",
     "text": [
      "start training...\n",
      "evaluation...\n",
      "score is 0.6567935976769663\n",
      " score (RandomForestClassifier(n_estimators=1000, n_jobs=-1, random_state=0), 0.6567935976769663)\n"
     ]
    }
   ],
   "source": [
    "from sklearn.linear_model import SGDClassifier\n",
    "from sklearn.svm import SVC\n",
    "from sklearn.model_selection import cross_val_score\n",
    "from sklearn.naive_bayes import MultinomialNB\n",
    "from sklearn.naive_bayes import BernoulliNB\n",
    "from sklearn.naive_bayes import GaussianNB\n",
    "from sklearn.linear_model import LogisticRegression\n",
    "from sklearn.ensemble import RandomForestClassifier\n",
    "from sklearn.neighbors import KNeighborsClassifier\n",
    "from sklearn.neural_network import MLPClassifier\n",
    "from lightgbm import LGBMClassifier\n",
    "from xgboost import XGBClassifier\n",
    "\n",
    "# clf = SVC(random_state=42)\n",
    "# clf = GaussianNB()\n",
    "# clf = MultinomialNB(alpha=10/100)\n",
    "# clf = BernoulliNB(alpha=10/100)\n",
    "# clf = LogisticRegression(penalty='l2',max_iter=10000,random_state=0)\n",
    "clf = RandomForestClassifier(n_estimators=1000,n_jobs=-1, random_state=0)\n",
    "# clf = SGDClassifier()\n",
    "# clf = KNeighborsClassifier(n_neighbors = 10)\n",
    "# clf = MLPClassifier(early_stopping=True,random_state=1,max_iter=500, verbose=True)\n",
    "# clf = LGBMClassifier()\n",
    "# clf= XGBClassifier()\n",
    "\n",
    "score = train_model(clf,X_train_scal,y_train,X_test_scal,y_test)\n",
    "print(f' score {score}')\n",
    "# scores = cross_val_score(clf, X, y, cv=5,scoring='f1_macro')\n",
    "# print(f'mean score {np.mean(scores)}, max score {np.max(scores)}, min score {np.min(scores)}')"
   ],
   "metadata": {
    "collapsed": false,
    "pycharm": {
     "name": "#%%\n"
    }
   }
  },
  {
   "cell_type": "code",
   "execution_count": 215,
   "outputs": [
    {
     "name": "stdout",
     "output_type": "stream",
     "text": [
      " score (RandomForestClassifier(n_estimators=1000, n_jobs=-1, random_state=0), 0.6567935976769663)\n"
     ]
    }
   ],
   "source": [
    "print(f' score {score}')"
   ],
   "metadata": {
    "collapsed": false,
    "pycharm": {
     "name": "#%%\n"
    }
   }
  },
  {
   "cell_type": "code",
   "execution_count": 141,
   "outputs": [],
   "source": [
    "# from sklearn.neighbors import KNeighborsClassifier\n",
    "#\n",
    "# score = []\n",
    "# for i in range(2,100,2):\n",
    "#     knn = KNeighborsClassifier(n_neighbors = i)\n",
    "#     knn.fit(X_train, y_train)\n",
    "#     y_pred = knn.predict(X_test)\n",
    "#     sco = evaluate(y_test, y_pred)\n",
    "#     score.append(sco)\n",
    "#     print(f'{i} {sco:.4f}')"
   ],
   "metadata": {
    "collapsed": false,
    "pycharm": {
     "name": "#%%\n"
    }
   }
  },
  {
   "cell_type": "code",
   "execution_count": 157,
   "outputs": [
    {
     "name": "stderr",
     "output_type": "stream",
     "text": [
      "/home/omid/anaconda3/envs/ml/lib/python3.8/site-packages/pandas/core/series.py:726: RuntimeWarning: invalid value encountered in sqrt\n",
      "  result = getattr(ufunc, method)(*inputs, **kwargs)\n"
     ]
    }
   ],
   "source": [
    "def WriteOnFile(name, y_eval):\n",
    "    f = open(name, \"w\")\n",
    "    f.write(\"Id,Predicted\\n\")\n",
    "    for index, i in enumerate(y_eval):\n",
    "        f.write(f\"{index},{i}\\n\")\n",
    "    f.close\n",
    "\n",
    "eval['boringness'] = eval['loudness'] + eval['tempo'] + (eval['energy']*100) + (eval['danceability']*100)\n",
    "eval['valence_happy_sad'] = eval['valence'].apply(lambda x: happy_sad(x))\n",
    "eval['loudness_plus_60'] = eval['loudness'].apply(lambda x: x+60)\n",
    "eval['loudness_pos'] = eval['loudness'].apply(lambda x: -1*x)\n",
    "eval['loudness_pos'] = np.sqrt(eval['loudness_pos'])\n",
    "eval['boringness_plus_60'] = eval['boringness'].apply(lambda x: x+60)\n",
    "eval['duration_ms_box_cox_trans'] = stats.boxcox(eval['duration_ms'])[0]\n",
    "eval['acousticness_sqrt_trans'] = np.sqrt(eval['acousticness'])\n",
    "eval['liveness_sqrt_trans'] = np.sqrt(eval['liveness'])\n",
    "eval['popularity_sqrt_trans'] = np.sqrt(eval['popularity'])\n",
    "eval['speechiness_sqrt_trans'] = np.sqrt(eval['speechiness'])\n",
    "eval = eval.fillna(value=0)"
   ],
   "metadata": {
    "collapsed": false,
    "pycharm": {
     "name": "#%%\n"
    }
   }
  },
  {
   "cell_type": "code",
   "execution_count": 216,
   "outputs": [],
   "source": [
    "test = eval[col]\n",
    "test_scal = x_scaler.transform(test)\n",
    "y_pred = clf.predict(test_scal)\n",
    "WriteOnFile('submission.csv',y_pred)"
   ],
   "metadata": {
    "collapsed": false,
    "pycharm": {
     "name": "#%%\n"
    }
   }
  }
 ],
 "metadata": {
  "kernelspec": {
   "display_name": "Python 3",
   "language": "python",
   "name": "python3"
  },
  "language_info": {
   "codemirror_mode": {
    "name": "ipython",
    "version": 2
   },
   "file_extension": ".py",
   "mimetype": "text/x-python",
   "name": "python",
   "nbconvert_exporter": "python",
   "pygments_lexer": "ipython2",
   "version": "2.7.6"
  }
 },
 "nbformat": 4,
 "nbformat_minor": 0
}