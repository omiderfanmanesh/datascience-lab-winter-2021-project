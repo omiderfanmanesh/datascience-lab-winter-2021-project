{
 "cells": [
  {
   "cell_type": "code",
   "execution_count": 1,
   "metadata": {
    "collapsed": true
   },
   "outputs": [],
   "source": [
    "import pandas as pd\n",
    "import numpy as np"
   ]
  },
  {
   "cell_type": "code",
   "execution_count": 2,
   "outputs": [],
   "source": [
    "data = pd.read_table('data/dev.tsv')\n",
    "test = pd.read_table('data/eval.tsv')"
   ],
   "metadata": {
    "collapsed": false,
    "pycharm": {
     "name": "#%%\n"
    }
   }
  },
  {
   "cell_type": "code",
   "execution_count": 3,
   "outputs": [
    {
     "data": {
      "text/plain": "   valence  year  acousticness                                        artists  \\\n0   0.7060  1963         0.334                                ['The Beatles']   \n1   0.0324  1953         0.954        ['Richard Strauss', 'Arturo Toscanini']   \n2   0.2590  1964         0.864       ['Monica Zetterlund', 'Bill Evans Trio']   \n3   0.3630  1963         0.825                                ['Roy Orbison']   \n4   0.8640  1973         0.520  ['Héctor Lavoe', 'Willie Colón', 'Yomo Toro']   \n\n   danceability  duration_ms  energy  explicit                      id  \\\n0         0.527       120853  0.4800         0  6EHuOufBeL6vk3TvVJB5qo   \n1         0.192       322693  0.0373         0  19RcQUOpftf7DqH0RogEQs   \n2         0.500       282533  0.2070         0  7BT5Abw12iVWLVo1tKb9Qu   \n3         0.508       140307  0.2890         0  1UgHqzVHOYpqM0rjm81ZYA   \n4         0.636       269520  0.6790         0  1uohFd173KrmJiDjiOooLw   \n\n   instrumentalness  key  liveness  loudness  popularity  speechiness  \\\n0          0.000000    4    0.0702    -9.610          61       0.0280   \n1          0.519000    5    0.1430   -28.496           0       0.0406   \n2          0.000696    0    0.1060   -16.817          29       0.0391   \n3          0.001240    5    0.1430   -11.068          22       0.0244   \n4          0.000000    7    0.0601    -6.410          41       0.0690   \n\n     tempo  mode  \n0  139.388     1  \n1   79.257     0  \n2   94.662     0  \n3   93.240     1  \n4   93.914     1  ",
      "text/html": "<div>\n<style scoped>\n    .dataframe tbody tr th:only-of-type {\n        vertical-align: middle;\n    }\n\n    .dataframe tbody tr th {\n        vertical-align: top;\n    }\n\n    .dataframe thead th {\n        text-align: right;\n    }\n</style>\n<table border=\"1\" class=\"dataframe\">\n  <thead>\n    <tr style=\"text-align: right;\">\n      <th></th>\n      <th>valence</th>\n      <th>year</th>\n      <th>acousticness</th>\n      <th>artists</th>\n      <th>danceability</th>\n      <th>duration_ms</th>\n      <th>energy</th>\n      <th>explicit</th>\n      <th>id</th>\n      <th>instrumentalness</th>\n      <th>key</th>\n      <th>liveness</th>\n      <th>loudness</th>\n      <th>popularity</th>\n      <th>speechiness</th>\n      <th>tempo</th>\n      <th>mode</th>\n    </tr>\n  </thead>\n  <tbody>\n    <tr>\n      <th>0</th>\n      <td>0.7060</td>\n      <td>1963</td>\n      <td>0.334</td>\n      <td>['The Beatles']</td>\n      <td>0.527</td>\n      <td>120853</td>\n      <td>0.4800</td>\n      <td>0</td>\n      <td>6EHuOufBeL6vk3TvVJB5qo</td>\n      <td>0.000000</td>\n      <td>4</td>\n      <td>0.0702</td>\n      <td>-9.610</td>\n      <td>61</td>\n      <td>0.0280</td>\n      <td>139.388</td>\n      <td>1</td>\n    </tr>\n    <tr>\n      <th>1</th>\n      <td>0.0324</td>\n      <td>1953</td>\n      <td>0.954</td>\n      <td>['Richard Strauss', 'Arturo Toscanini']</td>\n      <td>0.192</td>\n      <td>322693</td>\n      <td>0.0373</td>\n      <td>0</td>\n      <td>19RcQUOpftf7DqH0RogEQs</td>\n      <td>0.519000</td>\n      <td>5</td>\n      <td>0.1430</td>\n      <td>-28.496</td>\n      <td>0</td>\n      <td>0.0406</td>\n      <td>79.257</td>\n      <td>0</td>\n    </tr>\n    <tr>\n      <th>2</th>\n      <td>0.2590</td>\n      <td>1964</td>\n      <td>0.864</td>\n      <td>['Monica Zetterlund', 'Bill Evans Trio']</td>\n      <td>0.500</td>\n      <td>282533</td>\n      <td>0.2070</td>\n      <td>0</td>\n      <td>7BT5Abw12iVWLVo1tKb9Qu</td>\n      <td>0.000696</td>\n      <td>0</td>\n      <td>0.1060</td>\n      <td>-16.817</td>\n      <td>29</td>\n      <td>0.0391</td>\n      <td>94.662</td>\n      <td>0</td>\n    </tr>\n    <tr>\n      <th>3</th>\n      <td>0.3630</td>\n      <td>1963</td>\n      <td>0.825</td>\n      <td>['Roy Orbison']</td>\n      <td>0.508</td>\n      <td>140307</td>\n      <td>0.2890</td>\n      <td>0</td>\n      <td>1UgHqzVHOYpqM0rjm81ZYA</td>\n      <td>0.001240</td>\n      <td>5</td>\n      <td>0.1430</td>\n      <td>-11.068</td>\n      <td>22</td>\n      <td>0.0244</td>\n      <td>93.240</td>\n      <td>1</td>\n    </tr>\n    <tr>\n      <th>4</th>\n      <td>0.8640</td>\n      <td>1973</td>\n      <td>0.520</td>\n      <td>['Héctor Lavoe', 'Willie Colón', 'Yomo Toro']</td>\n      <td>0.636</td>\n      <td>269520</td>\n      <td>0.6790</td>\n      <td>0</td>\n      <td>1uohFd173KrmJiDjiOooLw</td>\n      <td>0.000000</td>\n      <td>7</td>\n      <td>0.0601</td>\n      <td>-6.410</td>\n      <td>41</td>\n      <td>0.0690</td>\n      <td>93.914</td>\n      <td>1</td>\n    </tr>\n  </tbody>\n</table>\n</div>"
     },
     "execution_count": 3,
     "metadata": {},
     "output_type": "execute_result"
    }
   ],
   "source": [
    "df = data.copy()\n",
    "eval = test.copy()\n",
    "df.head()"
   ],
   "metadata": {
    "collapsed": false,
    "pycharm": {
     "name": "#%%\n"
    }
   }
  },
  {
   "cell_type": "code",
   "execution_count": 4,
   "outputs": [
    {
     "data": {
      "text/plain": "                     count           mean            std     min          25%  \\\nvalence           136522.0       0.528540       0.263282     0.0       0.3170   \nyear              136522.0    1976.796048      25.921025  1921.0    1956.0000   \nacousticness      136522.0       0.502159       0.376037     0.0       0.1020   \ndanceability      136522.0       0.537497       0.175972     0.0       0.4150   \nduration_ms       136522.0  231061.453041  127800.577241  5991.0  169933.0000   \nenergy            136522.0       0.482298       0.267538     0.0       0.2550   \nexplicit          136522.0       0.084411       0.278005     0.0       0.0000   \ninstrumentalness  136522.0       0.167172       0.313448     0.0       0.0000   \nkey               136522.0       5.193200       3.513427     0.0       2.0000   \nliveness          136522.0       0.205708       0.174404     0.0       0.0989   \nloudness          136522.0     -11.466140       5.693637   -60.0     -14.6010   \npopularity        136522.0      31.430810      21.829751     0.0      11.0000   \nspeechiness       136522.0       0.098343       0.162603     0.0       0.0349   \ntempo             136522.0     116.913963      30.713393     0.0      93.4980   \nmode              136522.0       0.706904       0.455184     0.0       0.0000   \n\n                            50%          75%          max  \nvalence                0.540000       0.7470        1.000  \nyear                1977.000000    1999.0000     2020.000  \nacousticness           0.516000       0.8930        0.996  \ndanceability           0.548000       0.6680        0.988  \nduration_ms       207493.000000  262267.0000  5403500.000  \nenergy                 0.471000       0.7030        1.000  \nexplicit               0.000000       0.0000        1.000  \ninstrumentalness       0.000218       0.1030        1.000  \nkey                    5.000000       8.0000       11.000  \nliveness               0.136000       0.2610        1.000  \nloudness             -10.572500      -7.1930        3.855  \npopularity            33.000000      48.0000      100.000  \nspeechiness            0.045000       0.0756        0.969  \ntempo                114.834500     135.6070      243.507  \nmode                   1.000000       1.0000        1.000  ",
      "text/html": "<div>\n<style scoped>\n    .dataframe tbody tr th:only-of-type {\n        vertical-align: middle;\n    }\n\n    .dataframe tbody tr th {\n        vertical-align: top;\n    }\n\n    .dataframe thead th {\n        text-align: right;\n    }\n</style>\n<table border=\"1\" class=\"dataframe\">\n  <thead>\n    <tr style=\"text-align: right;\">\n      <th></th>\n      <th>count</th>\n      <th>mean</th>\n      <th>std</th>\n      <th>min</th>\n      <th>25%</th>\n      <th>50%</th>\n      <th>75%</th>\n      <th>max</th>\n    </tr>\n  </thead>\n  <tbody>\n    <tr>\n      <th>valence</th>\n      <td>136522.0</td>\n      <td>0.528540</td>\n      <td>0.263282</td>\n      <td>0.0</td>\n      <td>0.3170</td>\n      <td>0.540000</td>\n      <td>0.7470</td>\n      <td>1.000</td>\n    </tr>\n    <tr>\n      <th>year</th>\n      <td>136522.0</td>\n      <td>1976.796048</td>\n      <td>25.921025</td>\n      <td>1921.0</td>\n      <td>1956.0000</td>\n      <td>1977.000000</td>\n      <td>1999.0000</td>\n      <td>2020.000</td>\n    </tr>\n    <tr>\n      <th>acousticness</th>\n      <td>136522.0</td>\n      <td>0.502159</td>\n      <td>0.376037</td>\n      <td>0.0</td>\n      <td>0.1020</td>\n      <td>0.516000</td>\n      <td>0.8930</td>\n      <td>0.996</td>\n    </tr>\n    <tr>\n      <th>danceability</th>\n      <td>136522.0</td>\n      <td>0.537497</td>\n      <td>0.175972</td>\n      <td>0.0</td>\n      <td>0.4150</td>\n      <td>0.548000</td>\n      <td>0.6680</td>\n      <td>0.988</td>\n    </tr>\n    <tr>\n      <th>duration_ms</th>\n      <td>136522.0</td>\n      <td>231061.453041</td>\n      <td>127800.577241</td>\n      <td>5991.0</td>\n      <td>169933.0000</td>\n      <td>207493.000000</td>\n      <td>262267.0000</td>\n      <td>5403500.000</td>\n    </tr>\n    <tr>\n      <th>energy</th>\n      <td>136522.0</td>\n      <td>0.482298</td>\n      <td>0.267538</td>\n      <td>0.0</td>\n      <td>0.2550</td>\n      <td>0.471000</td>\n      <td>0.7030</td>\n      <td>1.000</td>\n    </tr>\n    <tr>\n      <th>explicit</th>\n      <td>136522.0</td>\n      <td>0.084411</td>\n      <td>0.278005</td>\n      <td>0.0</td>\n      <td>0.0000</td>\n      <td>0.000000</td>\n      <td>0.0000</td>\n      <td>1.000</td>\n    </tr>\n    <tr>\n      <th>instrumentalness</th>\n      <td>136522.0</td>\n      <td>0.167172</td>\n      <td>0.313448</td>\n      <td>0.0</td>\n      <td>0.0000</td>\n      <td>0.000218</td>\n      <td>0.1030</td>\n      <td>1.000</td>\n    </tr>\n    <tr>\n      <th>key</th>\n      <td>136522.0</td>\n      <td>5.193200</td>\n      <td>3.513427</td>\n      <td>0.0</td>\n      <td>2.0000</td>\n      <td>5.000000</td>\n      <td>8.0000</td>\n      <td>11.000</td>\n    </tr>\n    <tr>\n      <th>liveness</th>\n      <td>136522.0</td>\n      <td>0.205708</td>\n      <td>0.174404</td>\n      <td>0.0</td>\n      <td>0.0989</td>\n      <td>0.136000</td>\n      <td>0.2610</td>\n      <td>1.000</td>\n    </tr>\n    <tr>\n      <th>loudness</th>\n      <td>136522.0</td>\n      <td>-11.466140</td>\n      <td>5.693637</td>\n      <td>-60.0</td>\n      <td>-14.6010</td>\n      <td>-10.572500</td>\n      <td>-7.1930</td>\n      <td>3.855</td>\n    </tr>\n    <tr>\n      <th>popularity</th>\n      <td>136522.0</td>\n      <td>31.430810</td>\n      <td>21.829751</td>\n      <td>0.0</td>\n      <td>11.0000</td>\n      <td>33.000000</td>\n      <td>48.0000</td>\n      <td>100.000</td>\n    </tr>\n    <tr>\n      <th>speechiness</th>\n      <td>136522.0</td>\n      <td>0.098343</td>\n      <td>0.162603</td>\n      <td>0.0</td>\n      <td>0.0349</td>\n      <td>0.045000</td>\n      <td>0.0756</td>\n      <td>0.969</td>\n    </tr>\n    <tr>\n      <th>tempo</th>\n      <td>136522.0</td>\n      <td>116.913963</td>\n      <td>30.713393</td>\n      <td>0.0</td>\n      <td>93.4980</td>\n      <td>114.834500</td>\n      <td>135.6070</td>\n      <td>243.507</td>\n    </tr>\n    <tr>\n      <th>mode</th>\n      <td>136522.0</td>\n      <td>0.706904</td>\n      <td>0.455184</td>\n      <td>0.0</td>\n      <td>0.0000</td>\n      <td>1.000000</td>\n      <td>1.0000</td>\n      <td>1.000</td>\n    </tr>\n  </tbody>\n</table>\n</div>"
     },
     "execution_count": 4,
     "metadata": {},
     "output_type": "execute_result"
    }
   ],
   "source": [
    "df.describe().T"
   ],
   "metadata": {
    "collapsed": false,
    "pycharm": {
     "name": "#%%\n"
    }
   }
  }
 ],
 "metadata": {
  "kernelspec": {
   "display_name": "Python 3",
   "language": "python",
   "name": "python3"
  },
  "language_info": {
   "codemirror_mode": {
    "name": "ipython",
    "version": 2
   },
   "file_extension": ".py",
   "mimetype": "text/x-python",
   "name": "python",
   "nbconvert_exporter": "python",
   "pygments_lexer": "ipython2",
   "version": "2.7.6"
  }
 },
 "nbformat": 4,
 "nbformat_minor": 0
}