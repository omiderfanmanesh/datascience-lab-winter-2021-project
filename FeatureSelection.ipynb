{
 "cells": [
  {
   "cell_type": "code",
   "execution_count": 5,
   "metadata": {
    "collapsed": true
   },
   "outputs": [],
   "source": [
    "import pandas as pd\n",
    "import numpy as np\n",
    "\n",
    "from sklearn.feature_selection import SelectKBest\n",
    "from sklearn.feature_selection import chi2"
   ]
  },
  {
   "cell_type": "code",
   "execution_count": 41,
   "outputs": [],
   "source": [
    "data = pd.read_table('data/dev.tsv')\n",
    "test = pd.read_table('data/eval.tsv')"
   ],
   "metadata": {
    "collapsed": false,
    "pycharm": {
     "name": "#%%\n"
    }
   }
  },
  {
   "cell_type": "code",
   "execution_count": 42,
   "outputs": [],
   "source": [
    "df = data.copy()\n",
    "eval = test.copy()"
   ],
   "metadata": {
    "collapsed": false,
    "pycharm": {
     "name": "#%%\n"
    }
   }
  },
  {
   "cell_type": "code",
   "execution_count": 43,
   "outputs": [
    {
     "name": "stderr",
     "output_type": "stream",
     "text": [
      "/home/omid/anaconda3/envs/ml/lib/python3.8/site-packages/pandas/core/series.py:726: RuntimeWarning: invalid value encountered in sqrt\n",
      "  result = getattr(ufunc, method)(*inputs, **kwargs)\n"
     ]
    }
   ],
   "source": [
    "from scipy import stats\n",
    "def happy_sad(x):\n",
    "    if x>df['valence'].mean():\n",
    "        return 'happy'\n",
    "    else:\n",
    "        return 'sad'\n",
    "df['boringness'] = df['loudness'] + df['tempo'] + (df['energy']*100) + (df['danceability']*100)\n",
    "df['valence_happy_sad'] = df['valence'].apply(lambda x: happy_sad(x))\n",
    "df['loudness_plus_60'] = df['loudness'].apply(lambda x: x+60)\n",
    "df['loudness_pos'] = df['loudness'].apply(lambda x: -1*x)\n",
    "df['loudness_pos'] = np.sqrt(df['loudness_pos'])\n",
    "df['boringness_plus_60'] = df['boringness'].apply(lambda x: x+60)\n",
    "df['duration_ms_box_cox_trans'] = stats.boxcox(df['duration_ms'])[0]\n",
    "df['acousticness_sqrt_trans'] = np.sqrt(df['acousticness'])\n",
    "df['liveness_sqrt_trans'] = np.sqrt(df['liveness'])\n",
    "df['popularity_sqrt_trans'] = np.sqrt(df['popularity'])\n",
    "df['speechiness_sqrt_trans'] = np.sqrt(df['speechiness'])"
   ],
   "metadata": {
    "collapsed": false,
    "pycharm": {
     "name": "#%%\n"
    }
   }
  },
  {
   "cell_type": "code",
   "execution_count": 44,
   "outputs": [],
   "source": [
    "df = df.fillna(value=0)"
   ],
   "metadata": {
    "collapsed": false,
    "pycharm": {
     "name": "#%%\n"
    }
   }
  },
  {
   "cell_type": "code",
   "execution_count": 52,
   "outputs": [],
   "source": [
    "col = [\n",
    "    'valence',\n",
    "        'year',\n",
    "         'acousticness',\n",
    "        # 'artists',\n",
    "        'danceability',\n",
    "        'duration_ms',\n",
    "        'energy',\n",
    "        'explicit',\n",
    "        # 'id',\n",
    "        'instrumentalness',\n",
    "        'key',\n",
    "       'liveness',\n",
    "         'loudness',\n",
    "        'popularity',\n",
    "         'speechiness',\n",
    "        'tempo',\n",
    "         'mode',\n",
    "        'loudness_plus_60',\n",
    "        'loudness_pos',\n",
    "         'boringness',\n",
    "         # 'valence_happy_sad',\n",
    "        'boringness_plus_60',\n",
    "        'duration_ms_box_cox_trans',\n",
    "       'acousticness_sqrt_trans',\n",
    "        'liveness_sqrt_trans',\n",
    "        'popularity_sqrt_trans',\n",
    "        'speechiness_sqrt_trans'\n",
    "        ]\n",
    "X = df[col]\n",
    "y = df['mode']"
   ],
   "metadata": {
    "collapsed": false,
    "pycharm": {
     "name": "#%%\n"
    }
   }
  },
  {
   "cell_type": "code",
   "execution_count": 16,
   "outputs": [
    {
     "data": {
      "text/plain": "                     count           mean            std     min          25%  \\\nvalence           136522.0       0.528540       0.263282     0.0       0.3170   \nyear              136522.0    1976.796048      25.921025  1921.0    1956.0000   \nacousticness      136522.0       0.502159       0.376037     0.0       0.1020   \ndanceability      136522.0       0.537497       0.175972     0.0       0.4150   \nduration_ms       136522.0  231061.453041  127800.577241  5991.0  169933.0000   \nenergy            136522.0       0.482298       0.267538     0.0       0.2550   \nexplicit          136522.0       0.084411       0.278005     0.0       0.0000   \ninstrumentalness  136522.0       0.167172       0.313448     0.0       0.0000   \nkey               136522.0       5.193200       3.513427     0.0       2.0000   \nliveness          136522.0       0.205708       0.174404     0.0       0.0989   \nloudness_plus_60  136522.0      48.533860       5.693637     0.0      45.3990   \npopularity        136522.0      31.430810      21.829751     0.0      11.0000   \nspeechiness       136522.0       0.098343       0.162603     0.0       0.0349   \ntempo             136522.0     116.913963      30.713393     0.0      93.4980   \nboringness        136522.0     207.427339      54.726476   -60.0     170.9560   \n\n                            50%           75%          max  \nvalence                0.540000       0.74700        1.000  \nyear                1977.000000    1999.00000     2020.000  \nacousticness           0.516000       0.89300        0.996  \ndanceability           0.548000       0.66800        0.988  \nduration_ms       207493.000000  262267.00000  5403500.000  \nenergy                 0.471000       0.70300        1.000  \nexplicit               0.000000       0.00000        1.000  \ninstrumentalness       0.000218       0.10300        1.000  \nkey                    5.000000       8.00000       11.000  \nliveness               0.136000       0.26100        1.000  \nloudness_plus_60      49.427500      52.80700       63.855  \npopularity            33.000000      48.00000      100.000  \nspeechiness            0.045000       0.07560        0.969  \ntempo                114.834500     135.60700      243.507  \nboringness           212.869000     247.91775      368.543  ",
      "text/html": "<div>\n<style scoped>\n    .dataframe tbody tr th:only-of-type {\n        vertical-align: middle;\n    }\n\n    .dataframe tbody tr th {\n        vertical-align: top;\n    }\n\n    .dataframe thead th {\n        text-align: right;\n    }\n</style>\n<table border=\"1\" class=\"dataframe\">\n  <thead>\n    <tr style=\"text-align: right;\">\n      <th></th>\n      <th>count</th>\n      <th>mean</th>\n      <th>std</th>\n      <th>min</th>\n      <th>25%</th>\n      <th>50%</th>\n      <th>75%</th>\n      <th>max</th>\n    </tr>\n  </thead>\n  <tbody>\n    <tr>\n      <th>valence</th>\n      <td>136522.0</td>\n      <td>0.528540</td>\n      <td>0.263282</td>\n      <td>0.0</td>\n      <td>0.3170</td>\n      <td>0.540000</td>\n      <td>0.74700</td>\n      <td>1.000</td>\n    </tr>\n    <tr>\n      <th>year</th>\n      <td>136522.0</td>\n      <td>1976.796048</td>\n      <td>25.921025</td>\n      <td>1921.0</td>\n      <td>1956.0000</td>\n      <td>1977.000000</td>\n      <td>1999.00000</td>\n      <td>2020.000</td>\n    </tr>\n    <tr>\n      <th>acousticness</th>\n      <td>136522.0</td>\n      <td>0.502159</td>\n      <td>0.376037</td>\n      <td>0.0</td>\n      <td>0.1020</td>\n      <td>0.516000</td>\n      <td>0.89300</td>\n      <td>0.996</td>\n    </tr>\n    <tr>\n      <th>danceability</th>\n      <td>136522.0</td>\n      <td>0.537497</td>\n      <td>0.175972</td>\n      <td>0.0</td>\n      <td>0.4150</td>\n      <td>0.548000</td>\n      <td>0.66800</td>\n      <td>0.988</td>\n    </tr>\n    <tr>\n      <th>duration_ms</th>\n      <td>136522.0</td>\n      <td>231061.453041</td>\n      <td>127800.577241</td>\n      <td>5991.0</td>\n      <td>169933.0000</td>\n      <td>207493.000000</td>\n      <td>262267.00000</td>\n      <td>5403500.000</td>\n    </tr>\n    <tr>\n      <th>energy</th>\n      <td>136522.0</td>\n      <td>0.482298</td>\n      <td>0.267538</td>\n      <td>0.0</td>\n      <td>0.2550</td>\n      <td>0.471000</td>\n      <td>0.70300</td>\n      <td>1.000</td>\n    </tr>\n    <tr>\n      <th>explicit</th>\n      <td>136522.0</td>\n      <td>0.084411</td>\n      <td>0.278005</td>\n      <td>0.0</td>\n      <td>0.0000</td>\n      <td>0.000000</td>\n      <td>0.00000</td>\n      <td>1.000</td>\n    </tr>\n    <tr>\n      <th>instrumentalness</th>\n      <td>136522.0</td>\n      <td>0.167172</td>\n      <td>0.313448</td>\n      <td>0.0</td>\n      <td>0.0000</td>\n      <td>0.000218</td>\n      <td>0.10300</td>\n      <td>1.000</td>\n    </tr>\n    <tr>\n      <th>key</th>\n      <td>136522.0</td>\n      <td>5.193200</td>\n      <td>3.513427</td>\n      <td>0.0</td>\n      <td>2.0000</td>\n      <td>5.000000</td>\n      <td>8.00000</td>\n      <td>11.000</td>\n    </tr>\n    <tr>\n      <th>liveness</th>\n      <td>136522.0</td>\n      <td>0.205708</td>\n      <td>0.174404</td>\n      <td>0.0</td>\n      <td>0.0989</td>\n      <td>0.136000</td>\n      <td>0.26100</td>\n      <td>1.000</td>\n    </tr>\n    <tr>\n      <th>loudness_plus_60</th>\n      <td>136522.0</td>\n      <td>48.533860</td>\n      <td>5.693637</td>\n      <td>0.0</td>\n      <td>45.3990</td>\n      <td>49.427500</td>\n      <td>52.80700</td>\n      <td>63.855</td>\n    </tr>\n    <tr>\n      <th>popularity</th>\n      <td>136522.0</td>\n      <td>31.430810</td>\n      <td>21.829751</td>\n      <td>0.0</td>\n      <td>11.0000</td>\n      <td>33.000000</td>\n      <td>48.00000</td>\n      <td>100.000</td>\n    </tr>\n    <tr>\n      <th>speechiness</th>\n      <td>136522.0</td>\n      <td>0.098343</td>\n      <td>0.162603</td>\n      <td>0.0</td>\n      <td>0.0349</td>\n      <td>0.045000</td>\n      <td>0.07560</td>\n      <td>0.969</td>\n    </tr>\n    <tr>\n      <th>tempo</th>\n      <td>136522.0</td>\n      <td>116.913963</td>\n      <td>30.713393</td>\n      <td>0.0</td>\n      <td>93.4980</td>\n      <td>114.834500</td>\n      <td>135.60700</td>\n      <td>243.507</td>\n    </tr>\n    <tr>\n      <th>boringness</th>\n      <td>136522.0</td>\n      <td>207.427339</td>\n      <td>54.726476</td>\n      <td>-60.0</td>\n      <td>170.9560</td>\n      <td>212.869000</td>\n      <td>247.91775</td>\n      <td>368.543</td>\n    </tr>\n  </tbody>\n</table>\n</div>"
     },
     "execution_count": 16,
     "metadata": {},
     "output_type": "execute_result"
    }
   ],
   "source": [
    "X.describe().T"
   ],
   "metadata": {
    "collapsed": false,
    "pycharm": {
     "name": "#%%\n"
    }
   }
  },
  {
   "cell_type": "code",
   "execution_count": 21,
   "outputs": [
    {
     "name": "stdout",
     "output_type": "stream",
     "text": [
      "[5.382e+00 5.102e+01 8.597e+01 1.714e+01 1.984e+07 3.159e+01 8.027e+02\n",
      " 1.091e+02 4.450e+03 1.441e-01 7.567e+00 1.841e+03 1.196e+02 1.697e+02\n",
      " 1.224e+03]\n"
     ]
    }
   ],
   "source": [
    "test = SelectKBest(score_func=chi2, k=4)\n",
    "fit = test.fit(X, y)\n",
    "\n",
    "# Summarize scores\n",
    "np.set_printoptions(precision=3)\n",
    "print(fit.scores_)\n",
    "\n",
    "features = fit.transform(X)"
   ],
   "metadata": {
    "collapsed": false,
    "pycharm": {
     "name": "#%%\n"
    }
   }
  },
  {
   "cell_type": "code",
   "execution_count": 22,
   "outputs": [
    {
     "name": "stdout",
     "output_type": "stream",
     "text": [
      "[[1.209e+05 4.000e+00 6.100e+01 2.905e+02]\n",
      " [3.227e+05 5.000e+00 0.000e+00 1.337e+02]\n",
      " [2.825e+05 0.000e+00 2.900e+01 2.085e+02]\n",
      " ...\n",
      " [1.772e+05 7.000e+00 0.000e+00 1.866e+02]\n",
      " [1.617e+05 5.000e+00 2.100e+01 2.285e+02]\n",
      " [2.975e+05 7.000e+00 3.500e+01 2.889e+02]]\n"
     ]
    }
   ],
   "source": [
    "print(features)"
   ],
   "metadata": {
    "collapsed": false,
    "pycharm": {
     "name": "#%%\n"
    }
   }
  },
  {
   "cell_type": "code",
   "execution_count": 48,
   "outputs": [
    {
     "name": "stderr",
     "output_type": "stream",
     "text": [
      "/home/omid/anaconda3/envs/ml/lib/python3.8/site-packages/sklearn/utils/validation.py:67: FutureWarning: Pass n_features_to_select=7 as keyword args. From version 0.25 passing these as positional arguments will result in an error\n",
      "  warnings.warn(\"Pass {} as keyword args. From version 0.25 \"\n",
      "/home/omid/anaconda3/envs/ml/lib/python3.8/site-packages/sklearn/linear_model/_logistic.py:762: ConvergenceWarning: lbfgs failed to converge (status=1):\n",
      "STOP: TOTAL NO. of ITERATIONS REACHED LIMIT.\n",
      "\n",
      "Increase the number of iterations (max_iter) or scale the data as shown in:\n",
      "    https://scikit-learn.org/stable/modules/preprocessing.html\n",
      "Please also refer to the documentation for alternative solver options:\n",
      "    https://scikit-learn.org/stable/modules/linear_model.html#logistic-regression\n",
      "  n_iter_i = _check_optimize_result(\n",
      "/home/omid/anaconda3/envs/ml/lib/python3.8/site-packages/sklearn/linear_model/_logistic.py:762: ConvergenceWarning: lbfgs failed to converge (status=1):\n",
      "STOP: TOTAL NO. of ITERATIONS REACHED LIMIT.\n",
      "\n",
      "Increase the number of iterations (max_iter) or scale the data as shown in:\n",
      "    https://scikit-learn.org/stable/modules/preprocessing.html\n",
      "Please also refer to the documentation for alternative solver options:\n",
      "    https://scikit-learn.org/stable/modules/linear_model.html#logistic-regression\n",
      "  n_iter_i = _check_optimize_result(\n",
      "/home/omid/anaconda3/envs/ml/lib/python3.8/site-packages/sklearn/linear_model/_logistic.py:762: ConvergenceWarning: lbfgs failed to converge (status=1):\n",
      "STOP: TOTAL NO. of ITERATIONS REACHED LIMIT.\n",
      "\n",
      "Increase the number of iterations (max_iter) or scale the data as shown in:\n",
      "    https://scikit-learn.org/stable/modules/preprocessing.html\n",
      "Please also refer to the documentation for alternative solver options:\n",
      "    https://scikit-learn.org/stable/modules/linear_model.html#logistic-regression\n",
      "  n_iter_i = _check_optimize_result(\n",
      "/home/omid/anaconda3/envs/ml/lib/python3.8/site-packages/sklearn/linear_model/_logistic.py:762: ConvergenceWarning: lbfgs failed to converge (status=1):\n",
      "STOP: TOTAL NO. of ITERATIONS REACHED LIMIT.\n",
      "\n",
      "Increase the number of iterations (max_iter) or scale the data as shown in:\n",
      "    https://scikit-learn.org/stable/modules/preprocessing.html\n",
      "Please also refer to the documentation for alternative solver options:\n",
      "    https://scikit-learn.org/stable/modules/linear_model.html#logistic-regression\n",
      "  n_iter_i = _check_optimize_result(\n",
      "/home/omid/anaconda3/envs/ml/lib/python3.8/site-packages/sklearn/linear_model/_logistic.py:762: ConvergenceWarning: lbfgs failed to converge (status=1):\n",
      "STOP: TOTAL NO. of ITERATIONS REACHED LIMIT.\n",
      "\n",
      "Increase the number of iterations (max_iter) or scale the data as shown in:\n",
      "    https://scikit-learn.org/stable/modules/preprocessing.html\n",
      "Please also refer to the documentation for alternative solver options:\n",
      "    https://scikit-learn.org/stable/modules/linear_model.html#logistic-regression\n",
      "  n_iter_i = _check_optimize_result(\n",
      "/home/omid/anaconda3/envs/ml/lib/python3.8/site-packages/sklearn/linear_model/_logistic.py:762: ConvergenceWarning: lbfgs failed to converge (status=1):\n",
      "STOP: TOTAL NO. of ITERATIONS REACHED LIMIT.\n",
      "\n",
      "Increase the number of iterations (max_iter) or scale the data as shown in:\n",
      "    https://scikit-learn.org/stable/modules/preprocessing.html\n",
      "Please also refer to the documentation for alternative solver options:\n",
      "    https://scikit-learn.org/stable/modules/linear_model.html#logistic-regression\n",
      "  n_iter_i = _check_optimize_result(\n",
      "/home/omid/anaconda3/envs/ml/lib/python3.8/site-packages/sklearn/linear_model/_logistic.py:762: ConvergenceWarning: lbfgs failed to converge (status=1):\n",
      "STOP: TOTAL NO. of ITERATIONS REACHED LIMIT.\n",
      "\n",
      "Increase the number of iterations (max_iter) or scale the data as shown in:\n",
      "    https://scikit-learn.org/stable/modules/preprocessing.html\n",
      "Please also refer to the documentation for alternative solver options:\n",
      "    https://scikit-learn.org/stable/modules/linear_model.html#logistic-regression\n",
      "  n_iter_i = _check_optimize_result(\n",
      "/home/omid/anaconda3/envs/ml/lib/python3.8/site-packages/sklearn/linear_model/_logistic.py:762: ConvergenceWarning: lbfgs failed to converge (status=1):\n",
      "STOP: TOTAL NO. of ITERATIONS REACHED LIMIT.\n",
      "\n",
      "Increase the number of iterations (max_iter) or scale the data as shown in:\n",
      "    https://scikit-learn.org/stable/modules/preprocessing.html\n",
      "Please also refer to the documentation for alternative solver options:\n",
      "    https://scikit-learn.org/stable/modules/linear_model.html#logistic-regression\n",
      "  n_iter_i = _check_optimize_result(\n"
     ]
    },
    {
     "name": "stdout",
     "output_type": "stream",
     "text": [
      "Num Features: 7\n",
      "Selected Features: [ True False  True  True  True  True False False False False False False\n",
      "  True False  True]\n",
      "Feature Ranking: [1 8 1 1 1 1 3 2 9 6 4 7 1 5 1]\n"
     ]
    }
   ],
   "source": [
    "from sklearn.feature_selection import RFE\n",
    "from sklearn.linear_model import LogisticRegression\n",
    "model = LogisticRegression()\n",
    "rfe = RFE(model, 7)\n",
    "fit = rfe.fit(X, y)\n",
    "print(\"Num Features: %s\" % (fit.n_features_))\n",
    "print(\"Selected Features: %s\" % (fit.support_))\n",
    "print(\"Feature Ranking: %s\" % (fit.ranking_))"
   ],
   "metadata": {
    "collapsed": false,
    "pycharm": {
     "name": "#%%\n"
    }
   }
  },
  {
   "cell_type": "code",
   "execution_count": 53,
   "outputs": [
    {
     "name": "stdout",
     "output_type": "stream",
     "text": [
      "Ridge model: 0.0 * X0 + 0.0 * X1 + -0.0 * X2 + -0.0 * X3 + 0.0 * X4 + 0.0 * X5 + -0.0 * X6 + -0.0 * X7 + -0.0 * X8 + 0.0 * X9 + 0.0 * X10 + -0.0 * X11 + 0.0 * X12 + 0.0 * X13 + 1.0 * X14 + 0.0 * X15 + 0.0 * X16 + -0.0 * X17 + -0.0 * X18 + -0.0 * X19 + 0.0 * X20 + -0.0 * X21 + 0.0 * X22 + -0.0 * X23\n"
     ]
    }
   ],
   "source": [
    "from sklearn.linear_model import Ridge\n",
    "ridge = Ridge(alpha=1.0)\n",
    "ridge.fit(X,y)\n",
    "def pretty_print_coefs(coefs, names = None, sort = False):\n",
    "    if names == None:\n",
    "        names = [\"X%s\" % x for x in range(len(coefs))]\n",
    "    lst = zip(coefs, names)\n",
    "    if sort:\n",
    "        lst = sorted(lst,  key = lambda x:-np.abs(x[0]))\n",
    "    return \" + \".join(\"%s * %s\" % (round(coef, 3), name)\n",
    "                                   for coef, name in lst)\n",
    "print (\"Ridge model:\", pretty_print_coefs(ridge.coef_))"
   ],
   "metadata": {
    "collapsed": false,
    "pycharm": {
     "name": "#%%\n"
    }
   }
  },
  {
   "cell_type": "markdown",
   "source": [
    "X0 X5 X9 X10 X12 X13 X18 X21\n",
    "valence energy liveness loudness speechiness tempo popularity_sqrt_trans"
   ],
   "metadata": {
    "collapsed": false
   }
  },
  {
   "cell_type": "code",
   "execution_count": 40,
   "outputs": [
    {
     "data": {
      "text/plain": "Index(['valence', 'year', 'acousticness', 'danceability', 'duration_ms',\n       'energy', 'explicit', 'instrumentalness', 'key', 'liveness', 'loudness',\n       'popularity', 'speechiness', 'tempo', 'boringness', 'loudness_plus_60',\n       'boringness_plus_60', 'duration_ms_box_cox_trans',\n       'acousticness_sqrt_trans', 'liveness_sqrt_trans', 'loudness_pos',\n       'popularity_sqrt_trans', 'speechiness_sqrt_trans'],\n      dtype='object')"
     },
     "execution_count": 40,
     "metadata": {},
     "output_type": "execute_result"
    }
   ],
   "source": [
    "X.columns"
   ],
   "metadata": {
    "collapsed": false,
    "pycharm": {
     "name": "#%%\n"
    }
   }
  }
 ],
 "metadata": {
  "kernelspec": {
   "display_name": "Python 3",
   "language": "python",
   "name": "python3"
  },
  "language_info": {
   "codemirror_mode": {
    "name": "ipython",
    "version": 2
   },
   "file_extension": ".py",
   "mimetype": "text/x-python",
   "name": "python",
   "nbconvert_exporter": "python",
   "pygments_lexer": "ipython2",
   "version": "2.7.6"
  }
 },
 "nbformat": 4,
 "nbformat_minor": 0
}